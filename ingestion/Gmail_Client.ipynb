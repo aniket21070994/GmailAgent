{
 "cells": [
  {
   "cell_type": "markdown",
   "id": "84da6c0a-3152-4c5d-bac1-8b9dacd619f2",
   "metadata": {},
   "source": [
    "Imports"
   ]
  },
  {
   "cell_type": "code",
   "execution_count": null,
   "id": "22d5968c-6cbc-4edd-8c78-4786989e18ff",
   "metadata": {},
   "outputs": [],
   "source": [
    "!pip install google-api-python-client google-auth-oauthlib"
   ]
  },
  {
   "cell_type": "code",
   "execution_count": 136,
   "id": "2cc5be31-0212-4bd3-8f98-26444f7a2fa7",
   "metadata": {},
   "outputs": [],
   "source": [
    "#imports\n",
    "from google.auth.transport.requests import Request\n",
    "from google.oauth2.credentials import Credentials\n",
    "from google_auth_oauthlib.flow import InstalledAppFlow\n",
    "import os\n",
    "from googleapiclient import discovery\n",
    "from base64 import urlsafe_b64decode, urlsafe_b64encode\n",
    "from email.mime.text import MIMEText"
   ]
  },
  {
   "cell_type": "code",
   "execution_count": null,
   "id": "e4a8d705-c354-49ca-83dd-df0b3fde65b4",
   "metadata": {},
   "outputs": [],
   "source": []
  },
  {
   "cell_type": "code",
   "execution_count": 108,
   "id": "3a11fee9-1800-420e-9696-d2060fceea01",
   "metadata": {},
   "outputs": [],
   "source": [
    "\n",
    "def authenticate(SCOPES):\n",
    "    creds = None\n",
    "    if os.path.exists('token.json'):\n",
    "        creds = Credentials.from_authorized_user_file('token.json', SCOPES)\n",
    "    if not creds or not creds.valid:\n",
    "        if creds and creds.expired and creds.refresh_token:\n",
    "            creds.refresh(Request())\n",
    "        else:\n",
    "            flow = InstalledAppFlow.from_client_secrets_file(\n",
    "                'cred.json', SCOPES)\n",
    "            creds = flow.run_local_server(port=0)\n",
    "        with open('token.json', 'w') as token:\n",
    "            token.write(creds.to_json())\n",
    "    return creds"
   ]
  },
  {
   "cell_type": "code",
   "execution_count": 140,
   "id": "2674b47c-1df2-414a-af8c-3895ebe260c6",
   "metadata": {},
   "outputs": [],
   "source": [
    "\n",
    "def start_connect():\n",
    "    SCOPES = ['https://www.googleapis.com/auth/gmail.modify']\n",
    "    creds = authenticate()\n",
    "    return  discovery.build('gmail', 'v1', credentials=creds)\n",
    "    \n",
    "    "
   ]
  },
  {
   "cell_type": "code",
   "execution_count": 141,
   "id": "26569201-60a0-4452-ab9b-41df6c97420d",
   "metadata": {},
   "outputs": [],
   "source": [
    "service=start_connect()"
   ]
  },
  {
   "cell_type": "code",
   "execution_count": 142,
   "id": "2b259db2-73fb-4b10-8708-b149171d8557",
   "metadata": {},
   "outputs": [],
   "source": [
    "#return unreded emails in syntex [{'from':From,'Date':Date,'subject':subject,'message':mess}]\n",
    "def read_emails():\n",
    "    data=[]\n",
    "    results = service.users().threads().list(userId='me',labelIds=['INBOX','UNREAD']).execute()\n",
    "    threads = results.get('threads', [])\n",
    "\n",
    "    for thread in threads:\n",
    "        thread_info = service.users().threads().get(userId='me', id=thread['id']).execute()\n",
    "        messages = thread_info['messages']\n",
    "       \n",
    "        for message in messages:\n",
    "            headers=message['payload']['headers']\n",
    "            From=\"\"\n",
    "            Date=\"\"\n",
    "            subject=\"\"\n",
    "            mess=\"\"\n",
    "            if message['payload']['body']['size'] >0:\n",
    "                mess=message['payload']['body']['data']\n",
    "                mess=urlsafe_b64decode(mess).decode('utf-8')\n",
    "            for header in headers:\n",
    "                if header['name']=='from':\n",
    "                    From=header['name']\n",
    "                if header['name']=='Date':\n",
    "                    Date=header\n",
    "                if header['name']=='Subject':\n",
    "                    subject=header\n",
    "            temp=dict({'from':From,\n",
    "            'Date':Date,\n",
    "            'subject':subject,\n",
    "            'message':mess\n",
    "            })\n",
    "            if(len(subject)>0):\n",
    "                data.append(temp)\n",
    "                      \n",
    "        for msg in messages:\n",
    "            service.users().messages().modify(\n",
    "            userId='me',\n",
    "            id=msg['id'],\n",
    "            body={'removeLabelIds': ['UNREAD']}).execute()\n",
    "    return data\n",
    "            "
   ]
  },
  {
   "cell_type": "code",
   "execution_count": 129,
   "id": "862d7a42-352d-4889-ac15-5f7bbd6f15ee",
   "metadata": {},
   "outputs": [],
   "source": []
  },
  {
   "cell_type": "code",
   "execution_count": null,
   "id": "b0c14889-95b7-45b4-965c-ac718f25ff0e",
   "metadata": {},
   "outputs": [],
   "source": []
  },
  {
   "cell_type": "code",
   "execution_count": 143,
   "id": "bb43e419-df8a-4936-8e2c-f5339f059c54",
   "metadata": {},
   "outputs": [],
   "source": [
    "\n",
    "def create_draft(service, sender, to, subject, body_text):\n",
    "    message = MIMEText(body_text)\n",
    "    message[\"to\"] = to\n",
    "    message[\"from\"] = sender\n",
    "    message[\"subject\"] = subject\n",
    "\n",
    "    # base64url encode\n",
    "    encoded_message = base64.urlsafe_b64encode(message.as_bytes()).decode()\n",
    "\n",
    "    # wrap in draft\n",
    "    draft = {\"message\": {\"raw\": encoded_message}}\n",
    "\n",
    "    # create draft\n",
    "    draft = service.users().drafts().create(userId=\"me\", body=draft).execute()\n",
    "    print(f\"Draft id: {draft['id']}\")\n",
    "    return draft\n"
   ]
  },
  {
   "cell_type": "code",
   "execution_count": null,
   "id": "c365f7e4-a956-4925-baf6-b5516ec9c440",
   "metadata": {},
   "outputs": [],
   "source": []
  },
  {
   "cell_type": "code",
   "execution_count": null,
   "id": "e2775833-8e37-4d20-b541-c7aed5d7dbe6",
   "metadata": {},
   "outputs": [],
   "source": []
  },
  {
   "cell_type": "code",
   "execution_count": 173,
   "id": "3c330766-cfeb-4e2f-bca2-638430f2fa96",
   "metadata": {},
   "outputs": [],
   "source": [
    "def get_draft(id):\n",
    "    return service.users.drafts.get(userId=\"me\", id=draft_id, format=\"full\").execute()\n",
    "    "
   ]
  },
  {
   "cell_type": "code",
   "execution_count": 152,
   "id": "0df310e2-ded3-4749-8d32-dc82dce16afa",
   "metadata": {},
   "outputs": [],
   "source": [
    "def change_draft(service, sender, to, subject, body_text,id):\n",
    "    message = MIMEText(body_text)\n",
    "    message[\"to\"] = to\n",
    "    message[\"from\"] = sender\n",
    "    message[\"subject\"] = subject\n",
    "\n",
    "    # base64url encode\n",
    "    encoded_message = base64.urlsafe_b64encode(message.as_bytes()).decode()\n",
    "\n",
    "    # wrap in draft\n",
    "    draft = {\"message\": {\"raw\": encoded_message}}\n",
    "    service.users().drafts().update(userId='me',id=id,body=encoded_message)\n",
    "\n",
    "    "
   ]
  },
  {
   "cell_type": "code",
   "execution_count": 171,
   "id": "f2a29bcd-2258-4a69-b7d6-f6b4008d3c22",
   "metadata": {},
   "outputs": [],
   "source": [
    "def draft_send(service,id):\n",
    "    service.users().drafts().send(userId='me',body={\"id\":id}).execute()\n",
    "    service.users().drafts().delete(userId='me',id=id).execute()\n",
    "    "
   ]
  },
  {
   "cell_type": "code",
   "execution_count": null,
   "id": "7d0a1252-1173-455b-85a9-034bd1f5584c",
   "metadata": {},
   "outputs": [],
   "source": []
  },
  {
   "cell_type": "code",
   "execution_count": null,
   "id": "4e20516e-6082-462b-92f6-9db2ff1a869e",
   "metadata": {},
   "outputs": [],
   "source": []
  }
 ],
 "metadata": {
  "kernelspec": {
   "display_name": "Python 3 (ipykernel)",
   "language": "python",
   "name": "python3"
  },
  "language_info": {
   "codemirror_mode": {
    "name": "ipython",
    "version": 3
   },
   "file_extension": ".py",
   "mimetype": "text/x-python",
   "name": "python",
   "nbconvert_exporter": "python",
   "pygments_lexer": "ipython3",
   "version": "3.13.7"
  }
 },
 "nbformat": 4,
 "nbformat_minor": 5
}
