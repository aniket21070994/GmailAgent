{
 "cells": [
  {
   "cell_type": "code",
   "execution_count": 4,
   "id": "b728472a-b029-4a71-846b-514f540a8fc7",
   "metadata": {},
   "outputs": [],
   "source": []
  },
  {
   "cell_type": "code",
   "execution_count": 24,
   "id": "f9e6c17f-96bb-40c7-a3d5-a9de78968927",
   "metadata": {},
   "outputs": [
    {
     "name": "stdout",
     "output_type": "stream",
     "text": [
      "Defaulting to user installation because normal site-packages is not writeable\n",
      "Requirement already satisfied: groq in ./.local/lib/python3.10/site-packages (0.33.0)\n",
      "Requirement already satisfied: anyio<5,>=3.5.0 in /usr/local/lib/python3.10/dist-packages (from groq) (4.10.0)\n",
      "Requirement already satisfied: distro<2,>=1.7.0 in /usr/lib/python3/dist-packages (from groq) (1.7.0)\n",
      "Requirement already satisfied: httpx<1,>=0.23.0 in /usr/local/lib/python3.10/dist-packages (from groq) (0.28.1)\n",
      "Requirement already satisfied: pydantic<3,>=1.9.0 in ./.local/lib/python3.10/site-packages (from groq) (2.12.3)\n",
      "Requirement already satisfied: sniffio in /usr/local/lib/python3.10/dist-packages (from groq) (1.3.1)\n",
      "Requirement already satisfied: typing-extensions<5,>=4.10 in /usr/local/lib/python3.10/dist-packages (from groq) (4.15.0)\n",
      "Requirement already satisfied: exceptiongroup>=1.0.2 in /usr/local/lib/python3.10/dist-packages (from anyio<5,>=3.5.0->groq) (1.3.0)\n",
      "Requirement already satisfied: idna>=2.8 in /usr/lib/python3/dist-packages (from anyio<5,>=3.5.0->groq) (3.3)\n",
      "Requirement already satisfied: certifi in /usr/lib/python3/dist-packages (from httpx<1,>=0.23.0->groq) (2020.6.20)\n",
      "Requirement already satisfied: httpcore==1.* in /usr/local/lib/python3.10/dist-packages (from httpx<1,>=0.23.0->groq) (1.0.9)\n",
      "Requirement already satisfied: h11>=0.16 in /usr/local/lib/python3.10/dist-packages (from httpcore==1.*->httpx<1,>=0.23.0->groq) (0.16.0)\n",
      "Requirement already satisfied: annotated-types>=0.6.0 in ./.local/lib/python3.10/site-packages (from pydantic<3,>=1.9.0->groq) (0.7.0)\n",
      "Requirement already satisfied: pydantic-core==2.41.4 in ./.local/lib/python3.10/site-packages (from pydantic<3,>=1.9.0->groq) (2.41.4)\n",
      "Requirement already satisfied: typing-inspection>=0.4.2 in ./.local/lib/python3.10/site-packages (from pydantic<3,>=1.9.0->groq) (0.4.2)\n",
      "Note: you may need to restart the kernel to use updated packages.\n"
     ]
    }
   ],
   "source": [
    "pip install groq\n"
   ]
  },
  {
   "cell_type": "code",
   "execution_count": 18,
   "id": "933b098b-3fc7-4a21-ba2c-dc627ca43c50",
   "metadata": {},
   "outputs": [],
   "source": [
    "from groq import Groq\n",
    "\n",
    "'''Mail analizer'''\n",
    "\n",
    "def GmailAnalizer(message,key):\n",
    "\n",
    "    client = Groq(\n",
    "    api_key=key,\n",
    "    )\n",
    "    chat_completion = client.chat.completions.create(\n",
    "    messages=[\n",
    "        {\n",
    "            \"role\": \"system\",\n",
    "            \"content\": \"Act as coutomer support read gmail extract important information and also provide lavel of urgency of email result shuld be in format {notes:[],lavel:\"\"} note contain important details of emails regarding product coustomer and level is how important is the issue\",\n",
    "        }\n",
    "        ,\n",
    "        {\n",
    "            \"role\": \"user\",\n",
    "            \"content\": message,\n",
    "        }\n",
    "    ],\n",
    "    model=\"llama-3.3-70b-versatile\",\n",
    "    temperature=0.2\n",
    "    )\n",
    "    return(hat_completion.choices[0].message.content)\n",
    "\n",
    "\n",
    "\n",
    "'''Response assistent '''\n",
    "def GmailAssistent(company,message,key):\n",
    "\n",
    "    client = Groq(\n",
    "    api_key=key,\n",
    "    )\n",
    "    chat_completion = client.chat.completions.create(\n",
    "    messages=[\n",
    "        {\n",
    "            \"role\": \"system\",\n",
    "            \"content\": \"Act as coutomer care of company when any one reach through gmail give them prper resone in gmail format coustomer care and compant\"+company,\n",
    "        }\n",
    "        ,\n",
    "        {\n",
    "            \"role\": \"user\",\n",
    "            \"content\": message,\n",
    "        }\n",
    "    ],\n",
    "    model=\"llama-3.3-70b-versatile\",\n",
    "    temperature=0.2\n",
    "    )\n",
    "    return(chat_completion.choices[0].message.content)\n",
    "    \n",
    "    \n",
    "\n"
   ]
  },
  {
   "cell_type": "code",
   "execution_count": 19,
   "id": "0b5c1123-6065-41f9-9f1d-75ee19947af8",
   "metadata": {},
   "outputs": [
    {
     "name": "stdin",
     "output_type": "stream",
     "text": [
      " Subject: Defective Blender – Order #ABC123456 Dear WidgetWorld Support, The SuperGizmo 3000 blender (purchased 10/15/25) smoked and died on first use after blending yogurt and berries. Safety hazard. Demand: full refund + return label. Photos attached. Reply in 24 hrs. Alex Rivera alex.rivera@email.com (555) 123-4567\n"
     ]
    },
    {
     "name": "stdout",
     "output_type": "stream",
     "text": [
      "respone email==> Subject: Re: Defective Blender – Order #ABC123456\n",
      "\n",
      "Dear Alex Rivera,\n",
      "\n",
      "Thank you for reaching out to us about the issue with your SuperGizmo 3000 blender. We apologize for the inconvenience and safety hazard you experienced with the product. At AmpCorp, we take such matters seriously and are committed to providing a satisfactory resolution.\n",
      "\n",
      "We have reviewed your case and would like to assist you with a full refund and a return label. Please find the details below:\n",
      "\n",
      "* Refund: We will process a full refund of the purchase price to the original payment method within the next 3-5 business days.\n",
      "* Return Label: We have attached a prepaid return label to this email for your convenience. Please print and use this label to ship the defective blender back to us.\n",
      "\n",
      "Regarding the photos you attached, we appreciate you providing visual evidence of the issue. Our quality assurance team will review the images to identify the cause of the problem and take necessary steps to prevent such incidents in the future.\n",
      "\n",
      "If you have any further questions or concerns, please do not hesitate to contact us. We value your business and appreciate your patience and cooperation in this matter.\n",
      "\n",
      "Your satisfaction is our top priority, and we are committed to making things right. We will ensure that the refund and return process are completed as quickly as possible.\n",
      "\n",
      "Thank you for choosing AmpCorp, and we look forward to serving you better in the future.\n",
      "\n",
      "Best regards,\n",
      "\n",
      "AmpCorp Customer Care Team\n",
      "[customercare@ampcorp.com](mailto:customercare@ampcorp.com)\n",
      "(555) 901-2345\n",
      "\n",
      "Attachments: Prepaid Return Label.pdf\n",
      "/nextracted information==>/n Here is the extracted information in the requested format:\n",
      "\n",
      "{ \n",
      "notes: [\n",
      "  \"Defective product: SuperGizmo 3000 blender\",\n",
      "  \"Order number: ABC123456\",\n",
      "  \"Purchase date: 10/15/25\",\n",
      "  \"Issue: Smoked and died on first use\",\n",
      "  \"Cause: Blending yogurt and berries\",\n",
      "  \"Safety hazard\",\n",
      "  \"Customer demand: Full refund and return label\",\n",
      "  \"Photos of issue are attached\",\n",
      "  \"Customer name: Alex Rivera\",\n",
      "  \"Customer email: alex.rivera@email.com\",\n",
      "  \"Customer phone: (555) 123-4567\"\n",
      "],\n",
      "level: \"High\" \n",
      "}\n",
      "\n",
      "The level is marked as \"High\" due to the safety hazard mentioned in the email and the customer's demand for a full refund and return label, which indicates a sense of urgency and importance. Additionally, the customer has requested a reply within 24 hours, which further emphasizes the need for prompt attention to this issue.\n"
     ]
    }
   ],
   "source": [
    "GmailAssistent(company=\"ampcorp\")"
   ]
  },
  {
   "cell_type": "code",
   "execution_count": null,
   "id": "45b8f2da-d6bd-408b-bc71-fa0ebb618235",
   "metadata": {},
   "outputs": [],
   "source": []
  },
  {
   "cell_type": "code",
   "execution_count": null,
   "id": "470037fd-71bc-4944-83f6-af2f837d6153",
   "metadata": {},
   "outputs": [],
   "source": []
  },
  {
   "cell_type": "code",
   "execution_count": null,
   "id": "60e6faa3-f77e-4def-a595-1f249f96a100",
   "metadata": {},
   "outputs": [],
   "source": []
  }
 ],
 "metadata": {
  "kernelspec": {
   "display_name": "Python 3 (ipykernel)",
   "language": "python",
   "name": "python3"
  },
  "language_info": {
   "codemirror_mode": {
    "name": "ipython",
    "version": 3
   },
   "file_extension": ".py",
   "mimetype": "text/x-python",
   "name": "python",
   "nbconvert_exporter": "python",
   "pygments_lexer": "ipython3",
   "version": "3.10.12"
  }
 },
 "nbformat": 4,
 "nbformat_minor": 5
}
