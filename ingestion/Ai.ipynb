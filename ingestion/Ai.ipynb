{
 "cells": [
  {
   "cell_type": "markdown",
   "id": "765d666a-33df-4b99-b72f-e7694be81057",
   "metadata": {},
   "source": [
    "Sentiment Analysis"
   ]
  },
  {
   "cell_type": "code",
   "execution_count": null,
   "id": "2bb367a8-10be-4cac-bcd0-7caf315cd868",
   "metadata": {},
   "outputs": [],
   "source": [
    "pip install -U transformers"
   ]
  },
  {
   "cell_type": "code",
   "execution_count": 3,
   "id": "180c10cc-f37d-48be-a6f1-3cf521ab32e2",
   "metadata": {},
   "outputs": [
    {
     "name": "stdout",
     "output_type": "stream",
     "text": [
      "Requirement already satisfied: hf_xet in f:\\gmailagent\\lib\\site-packages (1.1.9)\n",
      "Note: you may need to restart the kernel to use updated packages.\n"
     ]
    }
   ],
   "source": [
    "pip install hf_xet"
   ]
  },
  {
   "cell_type": "code",
   "execution_count": null,
   "id": "f79f2953-8f66-49cf-b042-439e3932c95a",
   "metadata": {},
   "outputs": [],
   "source": [
    "pip install accelerate"
   ]
  },
  {
   "cell_type": "code",
   "execution_count": 2,
   "id": "853906af-2d0d-471f-805f-0fd01e18ef28",
   "metadata": {},
   "outputs": [
    {
     "name": "stdout",
     "output_type": "stream",
     "text": [
      "Collecting ipywidgets\n",
      "  Downloading ipywidgets-8.1.7-py3-none-any.whl.metadata (2.4 kB)\n",
      "Requirement already satisfied: comm>=0.1.3 in f:\\gmailagent\\lib\\site-packages (from ipywidgets) (0.2.3)\n",
      "Requirement already satisfied: ipython>=6.1.0 in f:\\gmailagent\\lib\\site-packages (from ipywidgets) (9.5.0)\n",
      "Requirement already satisfied: traitlets>=4.3.1 in f:\\gmailagent\\lib\\site-packages (from ipywidgets) (5.14.3)\n",
      "Collecting widgetsnbextension~=4.0.14 (from ipywidgets)\n",
      "  Downloading widgetsnbextension-4.0.14-py3-none-any.whl.metadata (1.6 kB)\n",
      "Collecting jupyterlab_widgets~=3.0.15 (from ipywidgets)\n",
      "  Downloading jupyterlab_widgets-3.0.15-py3-none-any.whl.metadata (20 kB)\n",
      "Requirement already satisfied: colorama in f:\\gmailagent\\lib\\site-packages (from ipython>=6.1.0->ipywidgets) (0.4.6)\n",
      "Requirement already satisfied: decorator in f:\\gmailagent\\lib\\site-packages (from ipython>=6.1.0->ipywidgets) (5.2.1)\n",
      "Requirement already satisfied: ipython-pygments-lexers in f:\\gmailagent\\lib\\site-packages (from ipython>=6.1.0->ipywidgets) (1.1.1)\n",
      "Requirement already satisfied: jedi>=0.16 in f:\\gmailagent\\lib\\site-packages (from ipython>=6.1.0->ipywidgets) (0.19.2)\n",
      "Requirement already satisfied: matplotlib-inline in f:\\gmailagent\\lib\\site-packages (from ipython>=6.1.0->ipywidgets) (0.1.7)\n",
      "Requirement already satisfied: prompt_toolkit<3.1.0,>=3.0.41 in f:\\gmailagent\\lib\\site-packages (from ipython>=6.1.0->ipywidgets) (3.0.52)\n",
      "Requirement already satisfied: pygments>=2.4.0 in f:\\gmailagent\\lib\\site-packages (from ipython>=6.1.0->ipywidgets) (2.19.2)\n",
      "Requirement already satisfied: stack_data in f:\\gmailagent\\lib\\site-packages (from ipython>=6.1.0->ipywidgets) (0.6.3)\n",
      "Requirement already satisfied: wcwidth in f:\\gmailagent\\lib\\site-packages (from prompt_toolkit<3.1.0,>=3.0.41->ipython>=6.1.0->ipywidgets) (0.2.13)\n",
      "Requirement already satisfied: parso<0.9.0,>=0.8.4 in f:\\gmailagent\\lib\\site-packages (from jedi>=0.16->ipython>=6.1.0->ipywidgets) (0.8.5)\n",
      "Requirement already satisfied: executing>=1.2.0 in f:\\gmailagent\\lib\\site-packages (from stack_data->ipython>=6.1.0->ipywidgets) (2.2.1)\n",
      "Requirement already satisfied: asttokens>=2.1.0 in f:\\gmailagent\\lib\\site-packages (from stack_data->ipython>=6.1.0->ipywidgets) (3.0.0)\n",
      "Requirement already satisfied: pure-eval in f:\\gmailagent\\lib\\site-packages (from stack_data->ipython>=6.1.0->ipywidgets) (0.2.3)\n",
      "Downloading ipywidgets-8.1.7-py3-none-any.whl (139 kB)\n",
      "Downloading jupyterlab_widgets-3.0.15-py3-none-any.whl (216 kB)\n",
      "Downloading widgetsnbextension-4.0.14-py3-none-any.whl (2.2 MB)\n",
      "   ---------------------------------------- 0.0/2.2 MB ? eta -:--:--\n",
      "   ------------------- -------------------- 1.0/2.2 MB 5.8 MB/s eta 0:00:01\n",
      "   ---------------------------------------- 2.2/2.2 MB 5.7 MB/s  0:00:00\n",
      "Installing collected packages: widgetsnbextension, jupyterlab_widgets, ipywidgets\n",
      "\n",
      "   ---------------------------------------- 0/3 [widgetsnbextension]\n",
      "   ---------------------------------------- 0/3 [widgetsnbextension]\n",
      "   ---------------------------------------- 0/3 [widgetsnbextension]\n",
      "   ---------------------------------------- 0/3 [widgetsnbextension]\n",
      "   ---------------------------------------- 0/3 [widgetsnbextension]\n",
      "   ---------------------------------------- 0/3 [widgetsnbextension]\n",
      "   ---------------------------------------- 0/3 [widgetsnbextension]\n",
      "   ---------------------------------------- 0/3 [widgetsnbextension]\n",
      "   ---------------------------------------- 0/3 [widgetsnbextension]\n",
      "   ---------------------------------------- 0/3 [widgetsnbextension]\n",
      "   ---------------------------------------- 0/3 [widgetsnbextension]\n",
      "   ---------------------------------------- 0/3 [widgetsnbextension]\n",
      "   ---------------------------------------- 0/3 [widgetsnbextension]\n",
      "   ---------------------------------------- 0/3 [widgetsnbextension]\n",
      "   ---------------------------------------- 0/3 [widgetsnbextension]\n",
      "   ---------------------------------------- 0/3 [widgetsnbextension]\n",
      "   ---------------------------------------- 0/3 [widgetsnbextension]\n",
      "   ---------------------------------------- 0/3 [widgetsnbextension]\n",
      "   ---------------------------------------- 0/3 [widgetsnbextension]\n",
      "   ---------------------------------------- 0/3 [widgetsnbextension]\n",
      "   ---------------------------------------- 0/3 [widgetsnbextension]\n",
      "   ---------------------------------------- 0/3 [widgetsnbextension]\n",
      "   ---------------------------------------- 0/3 [widgetsnbextension]\n",
      "   ---------------------------------------- 0/3 [widgetsnbextension]\n",
      "   ---------------------------------------- 0/3 [widgetsnbextension]\n",
      "   ---------------------------------------- 0/3 [widgetsnbextension]\n",
      "   ---------------------------------------- 0/3 [widgetsnbextension]\n",
      "   ---------------------------------------- 0/3 [widgetsnbextension]\n",
      "   ---------------------------------------- 0/3 [widgetsnbextension]\n",
      "   ---------------------------------------- 0/3 [widgetsnbextension]\n",
      "   ---------------------------------------- 0/3 [widgetsnbextension]\n",
      "   ---------------------------------------- 0/3 [widgetsnbextension]\n",
      "   ---------------------------------------- 0/3 [widgetsnbextension]\n",
      "   ---------------------------------------- 0/3 [widgetsnbextension]\n",
      "   ---------------------------------------- 0/3 [widgetsnbextension]\n",
      "   ---------------------------------------- 0/3 [widgetsnbextension]\n",
      "   ------------- -------------------------- 1/3 [jupyterlab_widgets]\n",
      "   ------------- -------------------------- 1/3 [jupyterlab_widgets]\n",
      "   ------------- -------------------------- 1/3 [jupyterlab_widgets]\n",
      "   ------------- -------------------------- 1/3 [jupyterlab_widgets]\n",
      "   ------------- -------------------------- 1/3 [jupyterlab_widgets]\n",
      "   ------------- -------------------------- 1/3 [jupyterlab_widgets]\n",
      "   ------------- -------------------------- 1/3 [jupyterlab_widgets]\n",
      "   ------------- -------------------------- 1/3 [jupyterlab_widgets]\n",
      "   ------------- -------------------------- 1/3 [jupyterlab_widgets]\n",
      "   ------------- -------------------------- 1/3 [jupyterlab_widgets]\n",
      "   ------------- -------------------------- 1/3 [jupyterlab_widgets]\n",
      "   ------------- -------------------------- 1/3 [jupyterlab_widgets]\n",
      "   ------------- -------------------------- 1/3 [jupyterlab_widgets]\n",
      "   ------------- -------------------------- 1/3 [jupyterlab_widgets]\n",
      "   ------------- -------------------------- 1/3 [jupyterlab_widgets]\n",
      "   ------------- -------------------------- 1/3 [jupyterlab_widgets]\n",
      "   ------------- -------------------------- 1/3 [jupyterlab_widgets]\n",
      "   ------------- -------------------------- 1/3 [jupyterlab_widgets]\n",
      "   ------------- -------------------------- 1/3 [jupyterlab_widgets]\n",
      "   ------------- -------------------------- 1/3 [jupyterlab_widgets]\n",
      "   ------------- -------------------------- 1/3 [jupyterlab_widgets]\n",
      "   -------------------------- ------------- 2/3 [ipywidgets]\n",
      "   -------------------------- ------------- 2/3 [ipywidgets]\n",
      "   -------------------------- ------------- 2/3 [ipywidgets]\n",
      "   -------------------------- ------------- 2/3 [ipywidgets]\n",
      "   -------------------------- ------------- 2/3 [ipywidgets]\n",
      "   -------------------------- ------------- 2/3 [ipywidgets]\n",
      "   -------------------------- ------------- 2/3 [ipywidgets]\n",
      "   -------------------------- ------------- 2/3 [ipywidgets]\n",
      "   -------------------------- ------------- 2/3 [ipywidgets]\n",
      "   -------------------------- ------------- 2/3 [ipywidgets]\n",
      "   -------------------------- ------------- 2/3 [ipywidgets]\n",
      "   -------------------------- ------------- 2/3 [ipywidgets]\n",
      "   -------------------------- ------------- 2/3 [ipywidgets]\n",
      "   -------------------------- ------------- 2/3 [ipywidgets]\n",
      "   -------------------------- ------------- 2/3 [ipywidgets]\n",
      "   -------------------------- ------------- 2/3 [ipywidgets]\n",
      "   -------------------------- ------------- 2/3 [ipywidgets]\n",
      "   -------------------------- ------------- 2/3 [ipywidgets]\n",
      "   -------------------------- ------------- 2/3 [ipywidgets]\n",
      "   -------------------------- ------------- 2/3 [ipywidgets]\n",
      "   -------------------------- ------------- 2/3 [ipywidgets]\n",
      "   -------------------------- ------------- 2/3 [ipywidgets]\n",
      "   -------------------------- ------------- 2/3 [ipywidgets]\n",
      "   -------------------------- ------------- 2/3 [ipywidgets]\n",
      "   -------------------------- ------------- 2/3 [ipywidgets]\n",
      "   -------------------------- ------------- 2/3 [ipywidgets]\n",
      "   -------------------------- ------------- 2/3 [ipywidgets]\n",
      "   -------------------------- ------------- 2/3 [ipywidgets]\n",
      "   -------------------------- ------------- 2/3 [ipywidgets]\n",
      "   -------------------------- ------------- 2/3 [ipywidgets]\n",
      "   -------------------------- ------------- 2/3 [ipywidgets]\n",
      "   -------------------------- ------------- 2/3 [ipywidgets]\n",
      "   -------------------------- ------------- 2/3 [ipywidgets]\n",
      "   -------------------------- ------------- 2/3 [ipywidgets]\n",
      "   ---------------------------------------- 3/3 [ipywidgets]\n",
      "\n",
      "Successfully installed ipywidgets jupyterlab_widgets widgetsnbextension\n",
      "Note: you may need to restart the kernel to use updated packages.\n"
     ]
    }
   ],
   "source": [
    "pip install ipywidgets\n"
   ]
  },
  {
   "cell_type": "code",
   "execution_count": 2,
   "id": "69d742d5-1759-4b63-aa45-82976989f582",
   "metadata": {},
   "outputs": [
    {
     "name": "stdout",
     "output_type": "stream",
     "text": [
      "Requirement already satisfied: torch in f:\\gmailagent\\lib\\site-packages (2.8.0)\n",
      "Requirement already satisfied: filelock in f:\\gmailagent\\lib\\site-packages (from torch) (3.19.1)\n",
      "Requirement already satisfied: typing-extensions>=4.10.0 in f:\\gmailagent\\lib\\site-packages (from torch) (4.15.0)\n",
      "Requirement already satisfied: sympy>=1.13.3 in f:\\gmailagent\\lib\\site-packages (from torch) (1.14.0)\n",
      "Requirement already satisfied: networkx in f:\\gmailagent\\lib\\site-packages (from torch) (3.5)\n",
      "Requirement already satisfied: jinja2 in f:\\gmailagent\\lib\\site-packages (from torch) (3.1.6)\n",
      "Requirement already satisfied: fsspec in f:\\gmailagent\\lib\\site-packages (from torch) (2025.9.0)\n",
      "Requirement already satisfied: setuptools in f:\\gmailagent\\lib\\site-packages (from torch) (80.9.0)\n",
      "Requirement already satisfied: mpmath<1.4,>=1.1.0 in f:\\gmailagent\\lib\\site-packages (from sympy>=1.13.3->torch) (1.3.0)\n",
      "Requirement already satisfied: MarkupSafe>=2.0 in f:\\gmailagent\\lib\\site-packages (from jinja2->torch) (3.0.2)\n",
      "Note: you may need to restart the kernel to use updated packages.\n"
     ]
    }
   ],
   "source": [
    "pip install torch"
   ]
  },
  {
   "cell_type": "code",
   "execution_count": 1,
   "id": "47815115-66ee-409e-9f36-0950c78fd31d",
   "metadata": {},
   "outputs": [
    {
     "name": "stderr",
     "output_type": "stream",
     "text": [
      "F:\\GmailAgent\\Lib\\site-packages\\tqdm\\auto.py:21: TqdmWarning: IProgress not found. Please update jupyter and ipywidgets. See https://ipywidgets.readthedocs.io/en/stable/user_install.html\n",
      "  from .autonotebook import tqdm as notebook_tqdm\n"
     ]
    },
    {
     "data": {
      "text/plain": [
       "'POSITIVE'"
      ]
     },
     "execution_count": 1,
     "metadata": {},
     "output_type": "execute_result"
    }
   ],
   "source": [
    "import torch\n",
    "from transformers import DistilBertTokenizer, DistilBertForSequenceClassification\n",
    "\n",
    "tokenizer = DistilBertTokenizer.from_pretrained(\"distilbert-base-uncased-finetuned-sst-2-english\")\n",
    "model = DistilBertForSequenceClassification.from_pretrained(\"distilbert-base-uncased-finetuned-sst-2-english\")\n",
    "\n",
    "inputs = tokenizer(\"Hello, my dog is cute but not like that\", return_tensors=\"pt\")\n",
    "with torch.no_grad():\n",
    "    logits = model(**inputs).logits\n",
    "\n",
    "predicted_class_id = logits.argmax().item()\n",
    "model.config.id2label[predicted_class_id]\n"
   ]
  },
  {
   "cell_type": "code",
   "execution_count": null,
   "id": "4c27f309-9324-4470-bc57-6b73647b98e5",
   "metadata": {},
   "outputs": [],
   "source": [
    "def sentiment(data):\n",
    "\n",
    "    return {\"role\": \"user\", \"content\": \"do Sentiment Analysis on , this is email message from user of company it may be ragarding any support ,query ,assistance  message=> \"+data}\n",
    "def priority(data):\n",
    "    return return {\"role\": \"user\", \"content\": \" act as priority identifyer ,this is email message from user of company it may be ragarding any support ,query ,assistance your task is to identify its priority  message=> \"+data}\n",
    "\n",
    "outputs = pipe(\n",
    "    messages,\n",
    "    max_new_tokens=256,\n",
    ")\n",
    "print(outputs[0][\"generated_text\"][-1])\n"
   ]
  }
 ],
 "metadata": {
  "kernelspec": {
   "display_name": "Python 3 (ipykernel)",
   "language": "python",
   "name": "python3"
  },
  "language_info": {
   "codemirror_mode": {
    "name": "ipython",
    "version": 3
   },
   "file_extension": ".py",
   "mimetype": "text/x-python",
   "name": "python",
   "nbconvert_exporter": "python",
   "pygments_lexer": "ipython3",
   "version": "3.13.7"
  }
 },
 "nbformat": 4,
 "nbformat_minor": 5
}
